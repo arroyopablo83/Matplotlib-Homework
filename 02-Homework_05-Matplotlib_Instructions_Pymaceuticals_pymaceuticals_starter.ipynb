{
 "cells": [
  {
   "cell_type": "markdown",
   "metadata": {},
   "source": [
    "## Observations and Insights"
   ]
  },
  {
   "cell_type": "markdown",
   "metadata": {},
   "source": []
  },
  {
   "cell_type": "markdown",
   "metadata": {},
   "source": [
    "# Comments about the data\n",
    "## (1) Not all samples are the same so that could affect the statistics calculation\n",
    "\n",
    "## (2) The line graph show clearly that capomulin has an clear effect on reducing the tummor size\n",
    "\n",
    "## (3) There are no outliers for the data of the most effective medicines"
   ]
  },
  {
   "cell_type": "code",
   "execution_count": null,
   "metadata": {},
   "outputs": [],
   "source": []
  },
  {
   "cell_type": "markdown",
   "metadata": {},
   "source": [
    "## Dependencies and starter code"
   ]
  },
  {
   "cell_type": "code",
   "execution_count": 92,
   "metadata": {},
   "outputs": [],
   "source": [
    "# Dependencies and Setup\n",
    "import matplotlib.pyplot as plt\n",
    "import pandas as pd\n",
    "import scipy.stats as sts\n",
    "import numpy as np\n",
    "from scipy import stats\n",
    "\n",
    "# Study data files\n",
    "mouse_metadata = \"data/Mouse_metadata.csv\"\n",
    "study_results = \"data/Study_results.csv\"\n",
    "\n",
    "# Read the mouse data and the study results\n",
    "mouse_metadata = pd.read_csv(mouse_metadata)\n",
    "study_results = pd.read_csv(study_results)\n",
    "\n",
    "# Combine the data into a single dataset"
   ]
  },
  {
   "cell_type": "code",
   "execution_count": null,
   "metadata": {},
   "outputs": [],
   "source": []
  },
  {
   "cell_type": "code",
   "execution_count": null,
   "metadata": {},
   "outputs": [],
   "source": []
  },
  {
   "cell_type": "code",
   "execution_count": 93,
   "metadata": {},
   "outputs": [
    {
     "data": {
      "text/html": [
       "<div>\n",
       "<style scoped>\n",
       "    .dataframe tbody tr th:only-of-type {\n",
       "        vertical-align: middle;\n",
       "    }\n",
       "\n",
       "    .dataframe tbody tr th {\n",
       "        vertical-align: top;\n",
       "    }\n",
       "\n",
       "    .dataframe thead th {\n",
       "        text-align: right;\n",
       "    }\n",
       "</style>\n",
       "<table border=\"1\" class=\"dataframe\">\n",
       "  <thead>\n",
       "    <tr style=\"text-align: right;\">\n",
       "      <th></th>\n",
       "      <th>Mouse ID</th>\n",
       "      <th>Drug Regimen</th>\n",
       "      <th>Sex</th>\n",
       "      <th>Age_months</th>\n",
       "      <th>Weight (g)</th>\n",
       "      <th>Timepoint</th>\n",
       "      <th>Tumor Volume (mm3)</th>\n",
       "      <th>Metastatic Sites</th>\n",
       "    </tr>\n",
       "  </thead>\n",
       "  <tbody>\n",
       "    <tr>\n",
       "      <th>0</th>\n",
       "      <td>k403</td>\n",
       "      <td>Ramicane</td>\n",
       "      <td>Male</td>\n",
       "      <td>21</td>\n",
       "      <td>16</td>\n",
       "      <td>0</td>\n",
       "      <td>45.000000</td>\n",
       "      <td>0</td>\n",
       "    </tr>\n",
       "    <tr>\n",
       "      <th>1</th>\n",
       "      <td>k403</td>\n",
       "      <td>Ramicane</td>\n",
       "      <td>Male</td>\n",
       "      <td>21</td>\n",
       "      <td>16</td>\n",
       "      <td>5</td>\n",
       "      <td>38.825898</td>\n",
       "      <td>0</td>\n",
       "    </tr>\n",
       "    <tr>\n",
       "      <th>2</th>\n",
       "      <td>k403</td>\n",
       "      <td>Ramicane</td>\n",
       "      <td>Male</td>\n",
       "      <td>21</td>\n",
       "      <td>16</td>\n",
       "      <td>10</td>\n",
       "      <td>35.014271</td>\n",
       "      <td>1</td>\n",
       "    </tr>\n",
       "    <tr>\n",
       "      <th>3</th>\n",
       "      <td>k403</td>\n",
       "      <td>Ramicane</td>\n",
       "      <td>Male</td>\n",
       "      <td>21</td>\n",
       "      <td>16</td>\n",
       "      <td>15</td>\n",
       "      <td>34.223992</td>\n",
       "      <td>1</td>\n",
       "    </tr>\n",
       "    <tr>\n",
       "      <th>4</th>\n",
       "      <td>k403</td>\n",
       "      <td>Ramicane</td>\n",
       "      <td>Male</td>\n",
       "      <td>21</td>\n",
       "      <td>16</td>\n",
       "      <td>20</td>\n",
       "      <td>32.997729</td>\n",
       "      <td>1</td>\n",
       "    </tr>\n",
       "  </tbody>\n",
       "</table>\n",
       "</div>"
      ],
      "text/plain": [
       "  Mouse ID Drug Regimen   Sex  Age_months  Weight (g)  Timepoint  \\\n",
       "0     k403     Ramicane  Male          21          16          0   \n",
       "1     k403     Ramicane  Male          21          16          5   \n",
       "2     k403     Ramicane  Male          21          16         10   \n",
       "3     k403     Ramicane  Male          21          16         15   \n",
       "4     k403     Ramicane  Male          21          16         20   \n",
       "\n",
       "   Tumor Volume (mm3)  Metastatic Sites  \n",
       "0           45.000000                 0  \n",
       "1           38.825898                 0  \n",
       "2           35.014271                 1  \n",
       "3           34.223992                 1  \n",
       "4           32.997729                 1  "
      ]
     },
     "execution_count": 93,
     "metadata": {},
     "output_type": "execute_result"
    }
   ],
   "source": [
    "# Combine the data into a single dataset\n",
    "data = pd.merge(mouse_metadata,study_results,on=\"Mouse ID\",how=\"outer\")\n",
    "data = pd.DataFrame(data)\n",
    "data.head()"
   ]
  },
  {
   "cell_type": "code",
   "execution_count": 94,
   "metadata": {},
   "outputs": [
    {
     "data": {
      "text/plain": [
       "Capomulin    230\n",
       "Ramicane     228\n",
       "Ketapril     188\n",
       "Naftisol     186\n",
       "Zoniferol    182\n",
       "Stelasyn     181\n",
       "Placebo      181\n",
       "Ceftamin     178\n",
       "Infubinol    178\n",
       "Propriva     161\n",
       "Name: Drug Regimen, dtype: int64"
      ]
     },
     "execution_count": 94,
     "metadata": {},
     "output_type": "execute_result"
    }
   ],
   "source": [
    "data2 = data[\"Drug Regimen\"]\n",
    "data2.value_counts()"
   ]
  },
  {
   "cell_type": "markdown",
   "metadata": {},
   "source": [
    "## Summary statistics"
   ]
  },
  {
   "cell_type": "code",
   "execution_count": 95,
   "metadata": {},
   "outputs": [
    {
     "data": {
      "text/html": [
       "<div>\n",
       "<style scoped>\n",
       "    .dataframe tbody tr th:only-of-type {\n",
       "        vertical-align: middle;\n",
       "    }\n",
       "\n",
       "    .dataframe tbody tr th {\n",
       "        vertical-align: top;\n",
       "    }\n",
       "\n",
       "    .dataframe thead th {\n",
       "        text-align: right;\n",
       "    }\n",
       "</style>\n",
       "<table border=\"1\" class=\"dataframe\">\n",
       "  <thead>\n",
       "    <tr style=\"text-align: right;\">\n",
       "      <th></th>\n",
       "      <th>Tumor Volume (mm3)</th>\n",
       "    </tr>\n",
       "  </thead>\n",
       "  <tbody>\n",
       "    <tr>\n",
       "      <th>mean</th>\n",
       "      <td>50.45</td>\n",
       "    </tr>\n",
       "    <tr>\n",
       "      <th>median</th>\n",
       "      <td>48.95</td>\n",
       "    </tr>\n",
       "    <tr>\n",
       "      <th>std</th>\n",
       "      <td>8.89</td>\n",
       "    </tr>\n",
       "  </tbody>\n",
       "</table>\n",
       "</div>"
      ],
      "text/plain": [
       "       Tumor Volume (mm3)\n",
       "mean                50.45\n",
       "median              48.95\n",
       "std                  8.89"
      ]
     },
     "execution_count": 95,
     "metadata": {},
     "output_type": "execute_result"
    }
   ],
   "source": [
    "# Generate a summary statistics table of mean, median, variance, standard deviation, \n",
    "#and SEM of the tumor volume for each regimen\n",
    "\n",
    "dataAgg = data.groupby(\"Drug Regimen\")\n",
    "dataAgg = data.agg({\n",
    "    \"Tumor Volume (mm3)\" : [\"mean\", \"median\", \"std\"]\n",
    "})\n",
    "\n",
    "dataAgg[\"Tumor Volume (mm3)\"] = dataAgg[\"Tumor Volume (mm3)\"].map(\"{:,.2f}\".format)\n",
    "\n",
    "dataAgg.head()\n",
    "\n",
    "#data.groupby(\"Drug Regimen\")[\"Tumor Volume (mm3)\"].mean()\n",
    "#data.groupby(\"Drug Regimen\")[\"Tumor Volume (mm3)\"].median()\n",
    "#data.groupby(\"Drug Regimen\")[\"Tumor Volume (mm3)\"].std()"
   ]
  },
  {
   "cell_type": "code",
   "execution_count": 96,
   "metadata": {},
   "outputs": [
    {
     "data": {
      "text/html": [
       "<div>\n",
       "<style scoped>\n",
       "    .dataframe tbody tr th:only-of-type {\n",
       "        vertical-align: middle;\n",
       "    }\n",
       "\n",
       "    .dataframe tbody tr th {\n",
       "        vertical-align: top;\n",
       "    }\n",
       "\n",
       "    .dataframe thead th {\n",
       "        text-align: right;\n",
       "    }\n",
       "</style>\n",
       "<table border=\"1\" class=\"dataframe\">\n",
       "  <thead>\n",
       "    <tr style=\"text-align: right;\">\n",
       "      <th></th>\n",
       "      <th>Mean</th>\n",
       "      <th>Median</th>\n",
       "      <th>Std</th>\n",
       "      <th>Sem</th>\n",
       "    </tr>\n",
       "    <tr>\n",
       "      <th>Drug Regimen</th>\n",
       "      <th></th>\n",
       "      <th></th>\n",
       "      <th></th>\n",
       "      <th></th>\n",
       "    </tr>\n",
       "  </thead>\n",
       "  <tbody>\n",
       "    <tr>\n",
       "      <th>Capomulin</th>\n",
       "      <td>40.68</td>\n",
       "      <td>41.56</td>\n",
       "      <td>4.99</td>\n",
       "      <td>0.33</td>\n",
       "    </tr>\n",
       "    <tr>\n",
       "      <th>Ceftamin</th>\n",
       "      <td>52.59</td>\n",
       "      <td>51.78</td>\n",
       "      <td>6.27</td>\n",
       "      <td>0.47</td>\n",
       "    </tr>\n",
       "    <tr>\n",
       "      <th>Infubinol</th>\n",
       "      <td>52.88</td>\n",
       "      <td>51.82</td>\n",
       "      <td>6.57</td>\n",
       "      <td>0.49</td>\n",
       "    </tr>\n",
       "    <tr>\n",
       "      <th>Ketapril</th>\n",
       "      <td>55.24</td>\n",
       "      <td>53.70</td>\n",
       "      <td>8.28</td>\n",
       "      <td>0.60</td>\n",
       "    </tr>\n",
       "    <tr>\n",
       "      <th>Naftisol</th>\n",
       "      <td>54.33</td>\n",
       "      <td>52.51</td>\n",
       "      <td>8.13</td>\n",
       "      <td>0.60</td>\n",
       "    </tr>\n",
       "    <tr>\n",
       "      <th>Placebo</th>\n",
       "      <td>54.03</td>\n",
       "      <td>52.29</td>\n",
       "      <td>7.82</td>\n",
       "      <td>0.58</td>\n",
       "    </tr>\n",
       "    <tr>\n",
       "      <th>Propriva</th>\n",
       "      <td>52.32</td>\n",
       "      <td>50.85</td>\n",
       "      <td>6.51</td>\n",
       "      <td>0.51</td>\n",
       "    </tr>\n",
       "    <tr>\n",
       "      <th>Ramicane</th>\n",
       "      <td>40.22</td>\n",
       "      <td>40.67</td>\n",
       "      <td>4.85</td>\n",
       "      <td>0.32</td>\n",
       "    </tr>\n",
       "    <tr>\n",
       "      <th>Stelasyn</th>\n",
       "      <td>54.23</td>\n",
       "      <td>52.43</td>\n",
       "      <td>7.71</td>\n",
       "      <td>0.57</td>\n",
       "    </tr>\n",
       "    <tr>\n",
       "      <th>Zoniferol</th>\n",
       "      <td>53.24</td>\n",
       "      <td>51.82</td>\n",
       "      <td>6.97</td>\n",
       "      <td>0.52</td>\n",
       "    </tr>\n",
       "  </tbody>\n",
       "</table>\n",
       "</div>"
      ],
      "text/plain": [
       "               Mean Median   Std   Sem\n",
       "Drug Regimen                          \n",
       "Capomulin     40.68  41.56  4.99  0.33\n",
       "Ceftamin      52.59  51.78  6.27  0.47\n",
       "Infubinol     52.88  51.82  6.57  0.49\n",
       "Ketapril      55.24  53.70  8.28  0.60\n",
       "Naftisol      54.33  52.51  8.13  0.60\n",
       "Placebo       54.03  52.29  7.82  0.58\n",
       "Propriva      52.32  50.85  6.51  0.51\n",
       "Ramicane      40.22  40.67  4.85  0.32\n",
       "Stelasyn      54.23  52.43  7.71  0.57\n",
       "Zoniferol     53.24  51.82  6.97  0.52"
      ]
     },
     "execution_count": 96,
     "metadata": {},
     "output_type": "execute_result"
    }
   ],
   "source": [
    "mean = pd.DataFrame(data.groupby(\"Drug Regimen\")[\"Tumor Volume (mm3)\"].mean())\n",
    "median = pd.DataFrame(data.groupby(\"Drug Regimen\")[\"Tumor Volume (mm3)\"].median())\n",
    "std = pd.DataFrame(data.groupby(\"Drug Regimen\")[\"Tumor Volume (mm3)\"].std())\n",
    "sem = pd.DataFrame(data.groupby(\"Drug Regimen\")[\"Tumor Volume (mm3)\"].sem())\n",
    "\n",
    "meanmedian = pd.merge(mean, median, on = \"Drug Regimen\", how=\"outer\")\n",
    "\n",
    "dataAll = pd.merge(meanmedian, std, on = \"Drug Regimen\", how = \"outer\")\n",
    "dataAll = pd.merge(dataAll, sem, on = \"Drug Regimen\", how = \"outer\")\n",
    "\n",
    "dataAll.columns = [\"Mean\",\"Median\",\"Std\",\"Sem\"]\n",
    "dataAll[\"Mean\"] = dataAll[\"Mean\"].map(\"{:,.2f}\".format)\n",
    "dataAll[\"Median\"] = dataAll[\"Median\"].map(\"{:,.2f}\".format)\n",
    "dataAll[\"Std\"] = dataAll[\"Std\"].map(\"{:,.2f}\".format)\n",
    "dataAll[\"Sem\"] = dataAll[\"Sem\"].map(\"{:,.2f}\".format)\n",
    "\n",
    "dataAll"
   ]
  },
  {
   "cell_type": "markdown",
   "metadata": {},
   "source": [
    "## Bar plots"
   ]
  },
  {
   "cell_type": "code",
   "execution_count": 97,
   "metadata": {},
   "outputs": [],
   "source": [
    "# Generate a bar plot showing number of data points for each treatment regimen using pandas"
   ]
  },
  {
   "cell_type": "code",
   "execution_count": 98,
   "metadata": {},
   "outputs": [
    {
     "data": {
      "image/png": "[encoded data removed]",
      "text/plain": [
       "<Figure size 432x288 with 1 Axes>"
      ]
     },
     "metadata": {
      "needs_background": "light"
     },
     "output_type": "display_data"
    }
   ],
   "source": [
    "data.groupby(\"Drug Regimen\")[\"Drug Regimen\"].count().plot(kind=\"bar\")\n",
    "plt.show()"
   ]
  },
  {
   "cell_type": "code",
   "execution_count": 99,
   "metadata": {},
   "outputs": [],
   "source": [
    "# Generate a bar plot showing number of data points for each treatment regimen using pyplot"
   ]
  },
  {
   "cell_type": "code",
   "execution_count": 100,
   "metadata": {},
   "outputs": [],
   "source": [
    "count = pd.DataFrame(data.groupby(\"Drug Regimen\")[\"Drug Regimen\"].count())\n",
    "count.rename(columns={'Drug Regimen': \"Count Drug Regimen\" },inplace=True)\n",
    "regimes = count.index.tolist()"
   ]
  },
  {
   "cell_type": "code",
   "execution_count": 101,
   "metadata": {},
   "outputs": [
    {
     "data": {
      "image/png": "[encoded data removed]",
      "text/plain": [
       "<Figure size 432x288 with 1 Axes>"
      ]
     },
     "metadata": {
      "needs_background": "light"
     },
     "output_type": "display_data"
    }
   ],
   "source": [
    "x_axis = np.arange(0, len(count))\n",
    "plt.bar(x_axis,count[\"Count Drug Regimen\"], color = \"g\", alpha = 0.4)\n",
    "plt.xticks(x_axis, regimes, rotation = \"vertical\")\n",
    "plt.xlim(-0.7, len(x_axis))\n",
    "plt.ylim(0, 250)\n",
    "plt.title(\"Distribution of Regimes\")\n",
    "plt.xlabel(\"Regimes\")\n",
    "plt.ylabel(\"Count of Regimes\")\n",
    "plt.show()"
   ]
  },
  {
   "cell_type": "markdown",
   "metadata": {},
   "source": [
    "## Pie plots"
   ]
  },
  {
   "cell_type": "code",
   "execution_count": 102,
   "metadata": {},
   "outputs": [
    {
     "data": {
      "text/html": [
       "<div>\n",
       "<style scoped>\n",
       "    .dataframe tbody tr th:only-of-type {\n",
       "        vertical-align: middle;\n",
       "    }\n",
       "\n",
       "    .dataframe tbody tr th {\n",
       "        vertical-align: top;\n",
       "    }\n",
       "\n",
       "    .dataframe thead th {\n",
       "        text-align: right;\n",
       "    }\n",
       "</style>\n",
       "<table border=\"1\" class=\"dataframe\">\n",
       "  <thead>\n",
       "    <tr style=\"text-align: right;\">\n",
       "      <th></th>\n",
       "      <th>Sex</th>\n",
       "      <th>Mouse Gender</th>\n",
       "    </tr>\n",
       "  </thead>\n",
       "  <tbody>\n",
       "    <tr>\n",
       "      <th>0</th>\n",
       "      <td>Female</td>\n",
       "      <td>935</td>\n",
       "    </tr>\n",
       "    <tr>\n",
       "      <th>1</th>\n",
       "      <td>Male</td>\n",
       "      <td>958</td>\n",
       "    </tr>\n",
       "  </tbody>\n",
       "</table>\n",
       "</div>"
      ],
      "text/plain": [
       "      Sex  Mouse Gender\n",
       "0  Female           935\n",
       "1    Male           958"
      ]
     },
     "execution_count": 102,
     "metadata": {},
     "output_type": "execute_result"
    }
   ],
   "source": [
    "gender = pd.DataFrame(data.groupby(\"Sex\")[\"Sex\"].count())\n",
    "gender.rename(columns={'Sex': \"Mouse Gender\" },inplace=True)\n",
    "labels =gender.index.tolist()\n",
    "colors = [\"lightcoral\", \"lightskyblue\"]\n",
    "explode = (0, 0)\n",
    "gender.reset_index()\n"
   ]
  },
  {
   "cell_type": "code",
   "execution_count": 103,
   "metadata": {},
   "outputs": [
    {
     "data": {
      "image/png": "[encoded data removed]",
      "text/plain": [
       "<Figure size 360x360 with 1 Axes>"
      ]
     },
     "metadata": {},
     "output_type": "display_data"
    }
   ],
   "source": [
    "plot = gender.plot.pie(y='Mouse Gender', figsize=(5, 5))"
   ]
  },
  {
   "cell_type": "code",
   "execution_count": 104,
   "metadata": {},
   "outputs": [],
   "source": [
    "# Generate a pie plot showing the distribution of female versus male mice using pyplot"
   ]
  },
  {
   "cell_type": "code",
   "execution_count": 105,
   "metadata": {},
   "outputs": [
    {
     "name": "stderr",
     "output_type": "stream",
     "text": [
      "C:\\ProgramData\\Anaconda3\\lib\\site-packages\\ipykernel_launcher.py:1: MatplotlibDeprecationWarning: Non-1D inputs to pie() are currently squeeze()d, but this behavior is deprecated since 3.1 and will be removed in 3.3; pass a 1D array instead.\n",
      "  \"\"\"Entry point for launching an IPython kernel.\n"
     ]
    },
    {
     "data": {
      "image/png": "[encoded data removed]",
      "text/plain": [
       "<Figure size 432x288 with 1 Axes>"
      ]
     },
     "metadata": {},
     "output_type": "display_data"
    }
   ],
   "source": [
    "plt.pie(gender, labels=labels, colors= colors, explode= explode, autopct = \"%1.1f%%\")\n",
    "plt.show()"
   ]
  },
  {
   "cell_type": "markdown",
   "metadata": {},
   "source": [
    "## Quartiles, outliers and boxplots"
   ]
  },
  {
   "cell_type": "code",
   "execution_count": 106,
   "metadata": {},
   "outputs": [],
   "source": [
    "# Calculate the final tumor volume of each mouse across \n",
    "#four of the most promising treatment regimens.\n",
    "#Calculate the IQR and quantitatively determine if there are any potential outliers. "
   ]
  },
  {
   "cell_type": "code",
   "execution_count": 107,
   "metadata": {},
   "outputs": [
    {
     "data": {
      "text/html": [
       "<div>\n",
       "<style scoped>\n",
       "    .dataframe tbody tr th:only-of-type {\n",
       "        vertical-align: middle;\n",
       "    }\n",
       "\n",
       "    .dataframe tbody tr th {\n",
       "        vertical-align: top;\n",
       "    }\n",
       "\n",
       "    .dataframe thead th {\n",
       "        text-align: right;\n",
       "    }\n",
       "</style>\n",
       "<table border=\"1\" class=\"dataframe\">\n",
       "  <thead>\n",
       "    <tr style=\"text-align: right;\">\n",
       "      <th></th>\n",
       "      <th>Mouse ID</th>\n",
       "      <th>Drug Regimen</th>\n",
       "      <th>Tumor Volume (mm3)</th>\n",
       "    </tr>\n",
       "  </thead>\n",
       "  <tbody>\n",
       "    <tr>\n",
       "      <th>0</th>\n",
       "      <td>k403</td>\n",
       "      <td>Ramicane</td>\n",
       "      <td>22.050126</td>\n",
       "    </tr>\n",
       "    <tr>\n",
       "      <th>1</th>\n",
       "      <td>s185</td>\n",
       "      <td>Capomulin</td>\n",
       "      <td>23.343598</td>\n",
       "    </tr>\n",
       "    <tr>\n",
       "      <th>2</th>\n",
       "      <td>x401</td>\n",
       "      <td>Capomulin</td>\n",
       "      <td>28.484033</td>\n",
       "    </tr>\n",
       "    <tr>\n",
       "      <th>3</th>\n",
       "      <td>m601</td>\n",
       "      <td>Capomulin</td>\n",
       "      <td>28.430964</td>\n",
       "    </tr>\n",
       "    <tr>\n",
       "      <th>4</th>\n",
       "      <td>g791</td>\n",
       "      <td>Ramicane</td>\n",
       "      <td>29.128472</td>\n",
       "    </tr>\n",
       "    <tr>\n",
       "      <th>...</th>\n",
       "      <td>...</td>\n",
       "      <td>...</td>\n",
       "      <td>...</td>\n",
       "    </tr>\n",
       "    <tr>\n",
       "      <th>125</th>\n",
       "      <td>y769</td>\n",
       "      <td>Ceftamin</td>\n",
       "      <td>68.594745</td>\n",
       "    </tr>\n",
       "    <tr>\n",
       "      <th>126</th>\n",
       "      <td>y865</td>\n",
       "      <td>Ceftamin</td>\n",
       "      <td>64.729837</td>\n",
       "    </tr>\n",
       "    <tr>\n",
       "      <th>127</th>\n",
       "      <td>z581</td>\n",
       "      <td>Infubinol</td>\n",
       "      <td>62.754451</td>\n",
       "    </tr>\n",
       "    <tr>\n",
       "      <th>128</th>\n",
       "      <td>z795</td>\n",
       "      <td>Naftisol</td>\n",
       "      <td>65.741070</td>\n",
       "    </tr>\n",
       "    <tr>\n",
       "      <th>129</th>\n",
       "      <td>z969</td>\n",
       "      <td>Naftisol</td>\n",
       "      <td>73.867845</td>\n",
       "    </tr>\n",
       "  </tbody>\n",
       "</table>\n",
       "<p>130 rows × 3 columns</p>\n",
       "</div>"
      ],
      "text/plain": [
       "    Mouse ID Drug Regimen  Tumor Volume (mm3)\n",
       "0       k403     Ramicane           22.050126\n",
       "1       s185    Capomulin           23.343598\n",
       "2       x401    Capomulin           28.484033\n",
       "3       m601    Capomulin           28.430964\n",
       "4       g791     Ramicane           29.128472\n",
       "..       ...          ...                 ...\n",
       "125     y769     Ceftamin           68.594745\n",
       "126     y865     Ceftamin           64.729837\n",
       "127     z581    Infubinol           62.754451\n",
       "128     z795     Naftisol           65.741070\n",
       "129     z969     Naftisol           73.867845\n",
       "\n",
       "[130 rows x 3 columns]"
      ]
     },
     "execution_count": 107,
     "metadata": {},
     "output_type": "execute_result"
    }
   ],
   "source": [
    "pablo2 = data[data[\"Timepoint\"] == 45].reset_index()\n",
    "pablo2 = pablo2[[\"Mouse ID\",\"Drug Regimen\",\"Tumor Volume (mm3)\"]]\n",
    "pablo2\n",
    "meanGeneral = pablo2[\"Tumor Volume (mm3)\"].mean()\n",
    "meanGeneral\n",
    "\n",
    "pablo2"
   ]
  },
  {
   "cell_type": "code",
   "execution_count": 108,
   "metadata": {},
   "outputs": [
    {
     "name": "stdout",
     "output_type": "stream",
     "text": [
      "Lower quartile: 32.37735684\n",
      "Upper quartile: 40.1592203\n",
      "Interquartile range : 7.781863460000004\n",
      "The median is : 37.31184577\n",
      "Lower bound: 20.70456164999999\n",
      "Upper bound: 51.83201549\n",
      "Total Outliers: 0\n"
     ]
    }
   ],
   "source": [
    "#Capomulin Ramicane Ceftamin Infubinol\n",
    "capomulin = pablo2[pablo2[\"Drug Regimen\"] == \"Capomulin\"]\n",
    "\n",
    "quartiles = capomulin[\"Tumor Volume (mm3)\"].quantile([.25,.5,.75])\n",
    "lowerqc = quartiles[.25]\n",
    "upperqc = quartiles[.75]\n",
    "iqrc = upperqc - lowerqc\n",
    "\n",
    "lowerbc = lowerqc - (1.5* iqrc)\n",
    "upperbc = upperqc + (1.5*iqrc)\n",
    "\n",
    "\n",
    "outliers1 = capomulin[capomulin[\"Tumor Volume (mm3)\"] < lowerbc]\n",
    "outliers2 = capomulin[capomulin[\"Tumor Volume (mm3)\"] > upperbc]                     \n",
    "outliers = pd.merge(outliers1, outliers2, on=\"Mouse ID\", how =\"outer\")\n",
    "\n",
    "print(f\"Lower quartile: {lowerqc}\")\n",
    "print(f\"Upper quartile: {upperqc}\")\n",
    "print(f\"Interquartile range : {iqrc}\")\n",
    "print(f\"The median is : {quartiles[0.5]}\")\n",
    "\n",
    "print(f\"Lower bound: {lowerbc}\")\n",
    "print(f\"Upper bound: {upperbc}\")\n",
    "print(f\"Total Outliers: {len(outliers)}\")\n",
    "\n",
    "#Capomulin Ramicane Ceftamin Infubinol\n",
    "#capomulin.mean()"
   ]
  },
  {
   "cell_type": "code",
   "execution_count": 109,
   "metadata": {},
   "outputs": [
    {
     "name": "stdout",
     "output_type": "stream",
     "text": [
      "Lower quartile: 30.981175224999998\n",
      "Upper quartile: 38.508305307499995\n",
      "Interquartile range : 7.527130082499998\n",
      "The median is : 34.848627300000004\n",
      "Lower bound: 19.690480101250003\n",
      "Upper bound: 49.79900043124999\n",
      "Total Outliers: 0\n"
     ]
    }
   ],
   "source": [
    "#Ramicane Ceftamin Infubinol\n",
    "ramicane = pablo2[pablo2[\"Drug Regimen\"] == \"Ramicane\"]\n",
    "\n",
    "quartiles = ramicane[\"Tumor Volume (mm3)\"].quantile([.25,.5,.75])\n",
    "lowerqr = quartiles[.25]\n",
    "upperqr = quartiles[.75]\n",
    "iqrr = upperqr - lowerqr\n",
    "\n",
    "lowerbr = lowerqr - (1.5* iqrr)\n",
    "upperbr = upperqr + (1.5*iqrr)\n",
    "\n",
    "\n",
    "outliers1 = ramicane[ramicane[\"Tumor Volume (mm3)\"] < lowerbr]\n",
    "outliers2 = ramicane[ramicane[\"Tumor Volume (mm3)\"] > upperbr]                     \n",
    "outliers = pd.merge(outliers1, outliers2, on=\"Mouse ID\", how =\"outer\")\n",
    "\n",
    "print(f\"Lower quartile: {lowerqr}\")\n",
    "print(f\"Upper quartile: {upperqr}\")\n",
    "print(f\"Interquartile range : {iqrr}\")\n",
    "print(f\"The median is : {quartiles[0.5]}\")\n",
    "\n",
    "print(f\"Lower bound: {lowerbr}\")\n",
    "print(f\"Upper bound: {upperbr}\")\n",
    "print(f\"Total Outliers: {len(outliers)}\")\n",
    "#ramicane"
   ]
  },
  {
   "cell_type": "code",
   "execution_count": 110,
   "metadata": {},
   "outputs": [
    {
     "name": "stdout",
     "output_type": "stream",
     "text": [
      "Lower quartile: 61.43389223\n",
      "Upper quartile: 67.52748237\n",
      "Interquartile range : 6.093590140000003\n",
      "The median is : 64.29983003\n",
      "Lower bound: 52.29350701999999\n",
      "Upper bound: 76.66786758\n",
      "Total Outliers: 0\n"
     ]
    }
   ],
   "source": [
    "#Ceftamin Infubinol\n",
    "ceftamin = pablo2[pablo2[\"Drug Regimen\"] == \"Ceftamin\"]\n",
    "\n",
    "quartiles = ceftamin[\"Tumor Volume (mm3)\"].quantile([.25,.5,.75])\n",
    "lowerqr = quartiles[.25]\n",
    "upperqr = quartiles[.75]\n",
    "iqrr = upperqr - lowerqr\n",
    "\n",
    "lowerbr = lowerqr - (1.5* iqrr)\n",
    "upperbr = upperqr + (1.5*iqrr)\n",
    "\n",
    "\n",
    "outliers1 = ceftamin[ceftamin[\"Tumor Volume (mm3)\"] < lowerbr]\n",
    "outliers2 = ceftamin[ceftamin[\"Tumor Volume (mm3)\"] > upperbr]                     \n",
    "outliers = pd.merge(outliers1, outliers2, on=\"Mouse ID\", how =\"outer\")\n",
    "\n",
    "print(f\"Lower quartile: {lowerqr}\")\n",
    "print(f\"Upper quartile: {upperqr}\")\n",
    "print(f\"Interquartile range : {iqrr}\")\n",
    "print(f\"The median is : {quartiles[0.5]}\")\n",
    "\n",
    "print(f\"Lower bound: {lowerbr}\")\n",
    "print(f\"Upper bound: {upperbr}\")\n",
    "print(f\"Total Outliers: {len(outliers)}\")\n",
    "#ramicane"
   ]
  },
  {
   "cell_type": "code",
   "execution_count": 111,
   "metadata": {},
   "outputs": [
    {
     "name": "stdout",
     "output_type": "stream",
     "text": [
      "Lower quartile: 62.75445141\n",
      "Upper quartile: 67.68556862\n",
      "Interquartile range : 4.9311172099999965\n",
      "The median is : 66.08306589\n",
      "Lower bound: 55.35777559500001\n",
      "Upper bound: 75.08224443499999\n",
      "Total Outliers: 0\n"
     ]
    }
   ],
   "source": [
    "#Infubinol\n",
    "infubinol = pablo2[pablo2[\"Drug Regimen\"] == \"Infubinol\"]\n",
    "\n",
    "quartiles = infubinol[\"Tumor Volume (mm3)\"].quantile([.25,.5,.75])\n",
    "lowerqr = quartiles[.25]\n",
    "upperqr = quartiles[.75]\n",
    "iqrr = upperqr - lowerqr\n",
    "\n",
    "lowerbr = lowerqr - (1.5* iqrr)\n",
    "upperbr = upperqr + (1.5*iqrr)\n",
    "\n",
    "\n",
    "outliers1 = infubinol[infubinol[\"Tumor Volume (mm3)\"] < lowerbr]\n",
    "outliers2 = infubinol[infubinol[\"Tumor Volume (mm3)\"] > upperbr]                     \n",
    "outliers = pd.merge(outliers1, outliers2, on=\"Mouse ID\", how =\"outer\")\n",
    "\n",
    "print(f\"Lower quartile: {lowerqr}\")\n",
    "print(f\"Upper quartile: {upperqr}\")\n",
    "print(f\"Interquartile range : {iqrr}\")\n",
    "print(f\"The median is : {quartiles[0.5]}\")\n",
    "\n",
    "print(f\"Lower bound: {lowerbr}\")\n",
    "print(f\"Upper bound: {upperbr}\")\n",
    "print(f\"Total Outliers: {len(outliers)}\")\n"
   ]
  },
  {
   "cell_type": "code",
   "execution_count": null,
   "metadata": {},
   "outputs": [],
   "source": []
  },
  {
   "cell_type": "code",
   "execution_count": 21,
   "metadata": {},
   "outputs": [],
   "source": [
    "# Generate a box plot of the final tumor volume of each mouse across four regimens of interest"
   ]
  },
  {
   "cell_type": "code",
   "execution_count": 112,
   "metadata": {},
   "outputs": [],
   "source": [
    "\n",
    "\n",
    "# Get names of indexes for which column Age has value 30\n",
    "indexNames = [\"Capomulin\", \"Ramicane\", \"Ceftamin\", \"Infubinol\"]\n",
    "df = pablo2[pablo2[\"Drug Regimen\"].isin(indexNames)]\n",
    "df\n",
    "\n",
    "means = df.groupby(\"Drug Regimen\")[\"Tumor Volume (mm3)\"].mean()\n",
    "means = means.tolist()\n",
    "\n",
    "sem = df.groupby(\"Drug Regimen\")[\"Tumor Volume (mm3)\"].sem()\n",
    "sem = sem.tolist()\n",
    "sem\n",
    "\n",
    "Capomulin = df[df[\"Drug Regimen\"] == \"Capomulin\"]\n",
    "Capomulin = Capomulin[\"Tumor Volume (mm3)\"].tolist()\n",
    "\n",
    "Ramicane = df[df[\"Drug Regimen\"] == \"Ramicane\"]\n",
    "Ramicane = Ramicane[\"Tumor Volume (mm3)\"].tolist()\n",
    "\n",
    "Ceftamin = df[df[\"Drug Regimen\"] == \"Ceftamin\"]\n",
    "Ceftamin = Ceftamin[\"Tumor Volume (mm3)\"].tolist()\n",
    "\n",
    "Infubinol = df[df[\"Drug Regimen\"] == \"Infubinol\"]\n",
    "Infubinol = Infubinol[\"Tumor Volume (mm3)\"].tolist()\n"
   ]
  },
  {
   "cell_type": "code",
   "execution_count": 113,
   "metadata": {},
   "outputs": [
    {
     "data": {
      "image/png": "[encoded data removed]",
      "text/plain": [
       "<Figure size 432x288 with 1 Axes>"
      ]
     },
     "metadata": {
      "needs_background": "light"
     },
     "output_type": "display_data"
    }
   ],
   "source": [
    "\n",
    "data2 = [Capomulin, Ramicane, Ceftamin, Infubinol]\n",
    "fig7, ax7 = plt.subplots()\n",
    "ax7.boxplot(data2)\n",
    "ax7.set_title('Potential Outliers')\n",
    "plt.show()"
   ]
  },
  {
   "cell_type": "markdown",
   "metadata": {},
   "source": [
    "## Line and scatter plots"
   ]
  },
  {
   "cell_type": "code",
   "execution_count": 114,
   "metadata": {},
   "outputs": [
    {
     "data": {
      "text/html": [
       "<div>\n",
       "<style scoped>\n",
       "    .dataframe tbody tr th:only-of-type {\n",
       "        vertical-align: middle;\n",
       "    }\n",
       "\n",
       "    .dataframe tbody tr th {\n",
       "        vertical-align: top;\n",
       "    }\n",
       "\n",
       "    .dataframe thead th {\n",
       "        text-align: right;\n",
       "    }\n",
       "</style>\n",
       "<table border=\"1\" class=\"dataframe\">\n",
       "  <thead>\n",
       "    <tr style=\"text-align: right;\">\n",
       "      <th></th>\n",
       "      <th>Mouse ID</th>\n",
       "      <th>Drug Regimen</th>\n",
       "      <th>Timepoint</th>\n",
       "      <th>Tumor Volume (mm3)</th>\n",
       "      <th>Weight (g)</th>\n",
       "    </tr>\n",
       "  </thead>\n",
       "  <tbody>\n",
       "    <tr>\n",
       "      <th>10</th>\n",
       "      <td>s185</td>\n",
       "      <td>Capomulin</td>\n",
       "      <td>0</td>\n",
       "      <td>45.000000</td>\n",
       "      <td>17</td>\n",
       "    </tr>\n",
       "    <tr>\n",
       "      <th>11</th>\n",
       "      <td>s185</td>\n",
       "      <td>Capomulin</td>\n",
       "      <td>5</td>\n",
       "      <td>43.878496</td>\n",
       "      <td>17</td>\n",
       "    </tr>\n",
       "    <tr>\n",
       "      <th>12</th>\n",
       "      <td>s185</td>\n",
       "      <td>Capomulin</td>\n",
       "      <td>10</td>\n",
       "      <td>37.614948</td>\n",
       "      <td>17</td>\n",
       "    </tr>\n",
       "    <tr>\n",
       "      <th>13</th>\n",
       "      <td>s185</td>\n",
       "      <td>Capomulin</td>\n",
       "      <td>15</td>\n",
       "      <td>38.177232</td>\n",
       "      <td>17</td>\n",
       "    </tr>\n",
       "    <tr>\n",
       "      <th>14</th>\n",
       "      <td>s185</td>\n",
       "      <td>Capomulin</td>\n",
       "      <td>20</td>\n",
       "      <td>36.866876</td>\n",
       "      <td>17</td>\n",
       "    </tr>\n",
       "    <tr>\n",
       "      <th>15</th>\n",
       "      <td>s185</td>\n",
       "      <td>Capomulin</td>\n",
       "      <td>25</td>\n",
       "      <td>33.949940</td>\n",
       "      <td>17</td>\n",
       "    </tr>\n",
       "    <tr>\n",
       "      <th>16</th>\n",
       "      <td>s185</td>\n",
       "      <td>Capomulin</td>\n",
       "      <td>30</td>\n",
       "      <td>32.959671</td>\n",
       "      <td>17</td>\n",
       "    </tr>\n",
       "    <tr>\n",
       "      <th>17</th>\n",
       "      <td>s185</td>\n",
       "      <td>Capomulin</td>\n",
       "      <td>35</td>\n",
       "      <td>28.328531</td>\n",
       "      <td>17</td>\n",
       "    </tr>\n",
       "    <tr>\n",
       "      <th>18</th>\n",
       "      <td>s185</td>\n",
       "      <td>Capomulin</td>\n",
       "      <td>40</td>\n",
       "      <td>25.472143</td>\n",
       "      <td>17</td>\n",
       "    </tr>\n",
       "    <tr>\n",
       "      <th>19</th>\n",
       "      <td>s185</td>\n",
       "      <td>Capomulin</td>\n",
       "      <td>45</td>\n",
       "      <td>23.343598</td>\n",
       "      <td>17</td>\n",
       "    </tr>\n",
       "  </tbody>\n",
       "</table>\n",
       "</div>"
      ],
      "text/plain": [
       "   Mouse ID Drug Regimen  Timepoint  Tumor Volume (mm3)  Weight (g)\n",
       "10     s185    Capomulin          0           45.000000          17\n",
       "11     s185    Capomulin          5           43.878496          17\n",
       "12     s185    Capomulin         10           37.614948          17\n",
       "13     s185    Capomulin         15           38.177232          17\n",
       "14     s185    Capomulin         20           36.866876          17\n",
       "15     s185    Capomulin         25           33.949940          17\n",
       "16     s185    Capomulin         30           32.959671          17\n",
       "17     s185    Capomulin         35           28.328531          17\n",
       "18     s185    Capomulin         40           25.472143          17\n",
       "19     s185    Capomulin         45           23.343598          17"
      ]
     },
     "execution_count": 114,
     "metadata": {},
     "output_type": "execute_result"
    }
   ],
   "source": [
    "dataR = data[[\"Mouse ID\", \"Drug Regimen\", \"Timepoint\", \"Tumor Volume (mm3)\",\"Weight (g)\"]]\n",
    "capomulin = dataR[dataR[\"Drug Regimen\"] == \"Capomulin\"]\n",
    "capomulin = dataR[dataR[\"Mouse ID\"] == \"s185\"]\n",
    "capomulin.reset_index()\n",
    "capomulin\n"
   ]
  },
  {
   "cell_type": "code",
   "execution_count": null,
   "metadata": {},
   "outputs": [],
   "source": [
    "\n"
   ]
  },
  {
   "cell_type": "code",
   "execution_count": null,
   "metadata": {},
   "outputs": [],
   "source": []
  },
  {
   "cell_type": "code",
   "execution_count": 115,
   "metadata": {},
   "outputs": [],
   "source": [
    "# Generate a line plot of time point versus tumor volume for a mouse treated with Capomulin"
   ]
  },
  {
   "cell_type": "code",
   "execution_count": 116,
   "metadata": {},
   "outputs": [
    {
     "data": {
      "text/html": [
       "<div>\n",
       "<style scoped>\n",
       "    .dataframe tbody tr th:only-of-type {\n",
       "        vertical-align: middle;\n",
       "    }\n",
       "\n",
       "    .dataframe tbody tr th {\n",
       "        vertical-align: top;\n",
       "    }\n",
       "\n",
       "    .dataframe thead th {\n",
       "        text-align: right;\n",
       "    }\n",
       "</style>\n",
       "<table border=\"1\" class=\"dataframe\">\n",
       "  <thead>\n",
       "    <tr style=\"text-align: right;\">\n",
       "      <th></th>\n",
       "      <th>Timepoint</th>\n",
       "      <th>Tumor Volume (mm3)</th>\n",
       "    </tr>\n",
       "  </thead>\n",
       "  <tbody>\n",
       "    <tr>\n",
       "      <th>0</th>\n",
       "      <td>0</td>\n",
       "      <td>45.000000</td>\n",
       "    </tr>\n",
       "    <tr>\n",
       "      <th>1</th>\n",
       "      <td>5</td>\n",
       "      <td>43.878496</td>\n",
       "    </tr>\n",
       "    <tr>\n",
       "      <th>2</th>\n",
       "      <td>10</td>\n",
       "      <td>37.614948</td>\n",
       "    </tr>\n",
       "    <tr>\n",
       "      <th>3</th>\n",
       "      <td>15</td>\n",
       "      <td>38.177232</td>\n",
       "    </tr>\n",
       "    <tr>\n",
       "      <th>4</th>\n",
       "      <td>20</td>\n",
       "      <td>36.866876</td>\n",
       "    </tr>\n",
       "    <tr>\n",
       "      <th>5</th>\n",
       "      <td>25</td>\n",
       "      <td>33.949940</td>\n",
       "    </tr>\n",
       "    <tr>\n",
       "      <th>6</th>\n",
       "      <td>30</td>\n",
       "      <td>32.959671</td>\n",
       "    </tr>\n",
       "    <tr>\n",
       "      <th>7</th>\n",
       "      <td>35</td>\n",
       "      <td>28.328531</td>\n",
       "    </tr>\n",
       "    <tr>\n",
       "      <th>8</th>\n",
       "      <td>40</td>\n",
       "      <td>25.472143</td>\n",
       "    </tr>\n",
       "    <tr>\n",
       "      <th>9</th>\n",
       "      <td>45</td>\n",
       "      <td>23.343598</td>\n",
       "    </tr>\n",
       "  </tbody>\n",
       "</table>\n",
       "</div>"
      ],
      "text/plain": [
       "   Timepoint  Tumor Volume (mm3)\n",
       "0          0           45.000000\n",
       "1          5           43.878496\n",
       "2         10           37.614948\n",
       "3         15           38.177232\n",
       "4         20           36.866876\n",
       "5         25           33.949940\n",
       "6         30           32.959671\n",
       "7         35           28.328531\n",
       "8         40           25.472143\n",
       "9         45           23.343598"
      ]
     },
     "execution_count": 116,
     "metadata": {},
     "output_type": "execute_result"
    }
   ],
   "source": [
    "time = pd.DataFrame(capomulin.groupby(\"Timepoint\")[\"Tumor Volume (mm3)\"].mean())\n",
    "time = time.reset_index()\n",
    "time"
   ]
  },
  {
   "cell_type": "code",
   "execution_count": 117,
   "metadata": {},
   "outputs": [
    {
     "data": {
      "image/png": "[encoded data removed]",
      "text/plain": [
       "<Figure size 432x288 with 1 Axes>"
      ]
     },
     "metadata": {
      "needs_background": "light"
     },
     "output_type": "display_data"
    }
   ],
   "source": [
    "x_axis = time[\"Timepoint\"].tolist()\n",
    "y_axis = time[\"Tumor Volume (mm3)\"].tolist()\n",
    "plt.plot (x_axis, y_axis, color=\"r\", alpha = 0.5,dashes=[6, 2])\n",
    "plt.title(\"Capomulin\")\n",
    "plt.xlabel(\"Times (Days)\")\n",
    "plt.ylabel(\"Tumor Volume (mm3)\")\n",
    "plt.show()\n"
   ]
  },
  {
   "cell_type": "code",
   "execution_count": 118,
   "metadata": {},
   "outputs": [
    {
     "data": {
      "image/png": "[encoded data removed]",
      "text/plain": [
       "<Figure size 432x288 with 1 Axes>"
      ]
     },
     "metadata": {
      "needs_background": "light"
     },
     "output_type": "display_data"
    },
    {
     "data": {
      "text/html": [
       "<div>\n",
       "<style scoped>\n",
       "    .dataframe tbody tr th:only-of-type {\n",
       "        vertical-align: middle;\n",
       "    }\n",
       "\n",
       "    .dataframe tbody tr th {\n",
       "        vertical-align: top;\n",
       "    }\n",
       "\n",
       "    .dataframe thead th {\n",
       "        text-align: right;\n",
       "    }\n",
       "</style>\n",
       "<table border=\"1\" class=\"dataframe\">\n",
       "  <thead>\n",
       "    <tr style=\"text-align: right;\">\n",
       "      <th></th>\n",
       "      <th>Weight (g)</th>\n",
       "      <th>Drug Regimen</th>\n",
       "      <th>Tumor Volume (mm3)</th>\n",
       "    </tr>\n",
       "  </thead>\n",
       "  <tbody>\n",
       "    <tr>\n",
       "      <th>0</th>\n",
       "      <td>17</td>\n",
       "      <td>Capomulin</td>\n",
       "      <td>45.000000</td>\n",
       "    </tr>\n",
       "    <tr>\n",
       "      <th>1</th>\n",
       "      <td>17</td>\n",
       "      <td>Capomulin</td>\n",
       "      <td>43.878496</td>\n",
       "    </tr>\n",
       "    <tr>\n",
       "      <th>2</th>\n",
       "      <td>17</td>\n",
       "      <td>Capomulin</td>\n",
       "      <td>37.614948</td>\n",
       "    </tr>\n",
       "    <tr>\n",
       "      <th>3</th>\n",
       "      <td>17</td>\n",
       "      <td>Capomulin</td>\n",
       "      <td>38.177232</td>\n",
       "    </tr>\n",
       "    <tr>\n",
       "      <th>4</th>\n",
       "      <td>17</td>\n",
       "      <td>Capomulin</td>\n",
       "      <td>36.866876</td>\n",
       "    </tr>\n",
       "    <tr>\n",
       "      <th>...</th>\n",
       "      <td>...</td>\n",
       "      <td>...</td>\n",
       "      <td>...</td>\n",
       "    </tr>\n",
       "    <tr>\n",
       "      <th>225</th>\n",
       "      <td>24</td>\n",
       "      <td>Capomulin</td>\n",
       "      <td>47.685963</td>\n",
       "    </tr>\n",
       "    <tr>\n",
       "      <th>226</th>\n",
       "      <td>25</td>\n",
       "      <td>Capomulin</td>\n",
       "      <td>45.000000</td>\n",
       "    </tr>\n",
       "    <tr>\n",
       "      <th>227</th>\n",
       "      <td>25</td>\n",
       "      <td>Capomulin</td>\n",
       "      <td>45.597064</td>\n",
       "    </tr>\n",
       "    <tr>\n",
       "      <th>228</th>\n",
       "      <td>25</td>\n",
       "      <td>Capomulin</td>\n",
       "      <td>46.059608</td>\n",
       "    </tr>\n",
       "    <tr>\n",
       "      <th>229</th>\n",
       "      <td>25</td>\n",
       "      <td>Capomulin</td>\n",
       "      <td>46.539206</td>\n",
       "    </tr>\n",
       "  </tbody>\n",
       "</table>\n",
       "<p>230 rows × 3 columns</p>\n",
       "</div>"
      ],
      "text/plain": [
       "     Weight (g) Drug Regimen  Tumor Volume (mm3)\n",
       "0            17    Capomulin           45.000000\n",
       "1            17    Capomulin           43.878496\n",
       "2            17    Capomulin           37.614948\n",
       "3            17    Capomulin           38.177232\n",
       "4            17    Capomulin           36.866876\n",
       "..          ...          ...                 ...\n",
       "225          24    Capomulin           47.685963\n",
       "226          25    Capomulin           45.000000\n",
       "227          25    Capomulin           45.597064\n",
       "228          25    Capomulin           46.059608\n",
       "229          25    Capomulin           46.539206\n",
       "\n",
       "[230 rows x 3 columns]"
      ]
     },
     "execution_count": 118,
     "metadata": {},
     "output_type": "execute_result"
    }
   ],
   "source": [
    "# Generate a scatter plot of mouse weight versus average tumor volume for the Capomulin regimen\n",
    "\n",
    "pablo2 = data[data[\"Drug Regimen\"] == \"Capomulin\"].reset_index()\n",
    "pablo2 = pablo2[[\"Weight (g)\", \"Drug Regimen\",\"Tumor Volume (mm3)\"]]\n",
    "pablo2\n",
    "\n",
    "plt.scatter(pablo2.iloc[:,0],pablo2.iloc[:,2], color = \"g\")\n",
    "plt.xlabel('Weight (g)')\n",
    "plt.ylabel('Tumor Volume (mm3)')\n",
    "plt.show()\n",
    "pablo2"
   ]
  },
  {
   "cell_type": "code",
   "execution_count": 85,
   "metadata": {},
   "outputs": [],
   "source": [
    "# Calculate the correlation coefficient and linear regression model \n",
    "#for mouse weight and average tumor volume for the Capomulin regimen"
   ]
  },
  {
   "cell_type": "code",
   "execution_count": 119,
   "metadata": {},
   "outputs": [],
   "source": [
    "Weight = pablo2[\"Weight (g)\"]\n",
    "Tumor = pablo2[\"Tumor Volume (mm3)\"]\n",
    "\n",
    "(v_slope1, v_int1, v_r1, v_p1, v_stderr1) = stats.linregress(Weight, Tumor)\n",
    "#violent"
   ]
  },
  {
   "cell_type": "code",
   "execution_count": 120,
   "metadata": {},
   "outputs": [
    {
     "data": {
      "image/png": "[encoded data removed]",
      "text/plain": [
       "<Figure size 432x288 with 1 Axes>"
      ]
     },
     "metadata": {
      "needs_background": "light"
     },
     "output_type": "display_data"
    },
    {
     "name": "stdout",
     "output_type": "stream",
     "text": [
      "The correlation between both factors is 0.53\n"
     ]
    }
   ],
   "source": [
    "v_fit1 = v_slope1 * Weight + v_int1\n",
    "plt.scatter(pablo2.iloc[:,0],pablo2.iloc[:,2], color = \"g\")\n",
    "plt.plot(Weight, v_fit1, \"--\")\n",
    "plt.xticks(Weight, rotation=90)\n",
    "plt.ylabel(\"Tumor Volume (mm3)\")\n",
    "plt.xlabel(\"Weight (g)\")\n",
    "plt.show()\n",
    "correlation = sts.pearsonr(Weight,Tumor)\n",
    "print(f\"The correlation between both factors is {round(correlation[0],2)}\")"
   ]
  },
  {
   "cell_type": "code",
   "execution_count": 121,
   "metadata": {},
   "outputs": [
    {
     "name": "stdout",
     "output_type": "stream",
     "text": [
      "The correlation between both factors is 0.53\n",
      "The r-squared is: 0.5256995552077172\n"
     ]
    },
    {
     "data": {
      "image/png": "[encoded data removed]",
      "text/plain": [
       "<Figure size 432x288 with 1 Axes>"
      ]
     },
     "metadata": {
      "needs_background": "light"
     },
     "output_type": "display_data"
    }
   ],
   "source": [
    "Weight = pablo2[\"Weight (g)\"]\n",
    "Tumor = pablo2[\"Tumor Volume (mm3)\"]\n",
    "\n",
    "(v_slope1, v_int1, rvalue, v_p1, v_stderr1) = stats.linregress(Weight, Tumor)\n",
    "v_fit1 = v_slope1 * Weight + v_int1\n",
    "\n",
    "plt.scatter(pablo2.iloc[:,0],pablo2.iloc[:,2], color = \"g\")\n",
    "\n",
    "plt.plot(Weight, v_fit1, \"r--\")\n",
    "plt.xticks(Weight, rotation=90)\n",
    "line_eq = \"y = \" + str(round(v_slope1,2)) + \"x + \" + str(round(v_int1,2))\n",
    "plt.annotate(line_eq,(21,25),fontsize=15,color=\"red\")\n",
    "plt.ylabel(\"Tumor Volume (mm3)\")\n",
    "plt.xlabel(\"Weight (g)\")\n",
    "\n",
    "\n",
    "correlation = sts.pearsonr(Weight,Tumor)\n",
    "print(f\"The correlation between both factors is {round(correlation[0],2)}\")\n",
    "print(f\"The r-squared is: {rvalue}\")\n",
    "plt.show()"
   ]
  },
  {
   "cell_type": "code",
   "execution_count": null,
   "metadata": {},
   "outputs": [],
   "source": []
  },
  {
   "cell_type": "markdown",
   "metadata": {},
   "source": []
  }
 ],
 "metadata": {
  "anaconda-cloud": {},
  "kernelspec": {
   "display_name": "Python 3",
   "language": "python",
   "name": "python3"
  },
  "language_info": {
   "codemirror_mode": {
    "name": "ipython",
    "version": 3
   },
   "file_extension": ".py",
   "mimetype": "text/x-python",
   "name": "python",
   "nbconvert_exporter": "python",
   "pygments_lexer": "ipython3",
   "version": "3.7.6"
  }
 },
 "nbformat": 4,
 "nbformat_minor": 2
}
